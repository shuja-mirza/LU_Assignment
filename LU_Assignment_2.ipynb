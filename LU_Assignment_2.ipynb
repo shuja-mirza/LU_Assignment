{
 "cells": [
  {
   "cell_type": "markdown",
   "metadata": {},
   "source": [
    "# Q1.\n"
   ]
  },
  {
   "cell_type": "code",
   "execution_count": 1,
   "metadata": {},
   "outputs": [],
   "source": [
    "ls=[]"
   ]
  },
  {
   "cell_type": "code",
   "execution_count": 2,
   "metadata": {},
   "outputs": [
    {
     "name": "stdout",
     "output_type": "stream",
     "text": [
      "<class 'list'>\n"
     ]
    }
   ],
   "source": [
    "print(type(ls))"
   ]
  },
  {
   "cell_type": "code",
   "execution_count": 3,
   "metadata": {},
   "outputs": [
    {
     "name": "stdout",
     "output_type": "stream",
     "text": [
      "ENTER NUMBER3\n",
      "ENTER NUMBER4\n",
      "ENTER NUMBER5\n",
      "ENTER NUMBER6\n",
      "ENTER NUMBER7\n",
      "ENTER NUMBER4\n",
      "ENTER NUMBER4\n",
      "ENTER NUMBER4\n",
      "ENTER NUMBER4\n",
      "ENTER NUMBER4\n",
      "[4, 6, 4, 4, 4, 4, 4]\n"
     ]
    }
   ],
   "source": [
    "i=0\n",
    "while i<10:\n",
    "    x=int(input(\"ENTER NUMBER\"))\n",
    "    i=i+1\n",
    "    if x%2 == 0:\n",
    "        ls.append(x)\n",
    "print(ls)"
   ]
  },
  {
   "cell_type": "markdown",
   "metadata": {},
   "source": [
    "# Q3."
   ]
  },
  {
   "cell_type": "code",
   "execution_count": 4,
   "metadata": {},
   "outputs": [
    {
     "name": "stdout",
     "output_type": "stream",
     "text": [
      "Enter number3\n",
      "{1: 1, 2: 4, 3: 9}\n"
     ]
    }
   ],
   "source": [
    "x=int(input(\"Enter number\"))\n",
    "d=dict()\n",
    "for x in range (1,x+1):\n",
    "    d[x]=x*x\n",
    "print(d)"
   ]
  },
  {
   "cell_type": "markdown",
   "metadata": {},
   "source": [
    "# Q4."
   ]
  },
  {
   "cell_type": "code",
   "execution_count": 6,
   "metadata": {},
   "outputs": [
    {
     "name": "stdout",
     "output_type": "stream",
     "text": [
      "Final Position: ( 0 ,  1 )\n",
      "Final Position: ( 0 ,  0 )\n",
      "Final Position: ( 0 ,  -1 )\n",
      "Final Position: ( -1 ,  -1 )\n",
      "Final Position: ( -2 ,  -1 )\n",
      "Final Position: ( -1 ,  -1 )\n",
      "Final Position: ( -1 ,  0 )\n",
      "Final Position: ( -1 ,  1 )\n",
      "Final Position: ( -1 ,  2 )\n",
      "Final Position: ( -1 ,  1 )\n",
      "Final Position: ( -1 ,  2 )\n",
      "Final Position: ( -1 ,  3 )\n",
      "Final Position: ( 0 ,  3 )\n",
      "Final Position: ( 0 ,  4 )\n",
      "Final Position: ( 0 ,  3 )\n",
      "Final Position: ( 0 ,  2 )\n",
      "Final Position: ( 0 ,  3 )\n",
      "Final Position: ( 0 ,  4 )\n",
      "Final Position: ( -1 ,  4 )\n",
      "Final Position: ( -2 ,  4 )\n",
      "Final Position: ( -2 ,  3 )\n",
      "Final Position: ( -1 ,  3 )\n",
      "Final Position: ( 0 ,  3 )\n",
      "Final Position: ( 1 ,  3 )\n",
      "Final Position: ( 2 ,  3 )\n"
     ]
    }
   ],
   "source": [
    "def finalposition(move):\n",
    "    l = len(move);\n",
    "    up,down=0,0\n",
    "    right,left=0,0\n",
    "    for i in range(l):\n",
    "        if (move[i]=='U'):\n",
    "            up=up+1;\n",
    "        elif (move[i]=='D'):\n",
    "            down=down+1;\n",
    "        elif (move[i]==\"R\"):\n",
    "            right=right+1;\n",
    "        elif (move[i]=='L'):\n",
    "            left=left+1;\n",
    "        print(\"Final Position: (\", (right - left),\", \" , (up - down), \")\");\n",
    "if __name__ == '__main__':\n",
    "    move = \"UDDLLRUUUDUURUDDUULLDRRRR\";\n",
    "    finalposition(move);\n"
   ]
  },
  {
   "cell_type": "code",
   "execution_count": null,
   "metadata": {},
   "outputs": [],
   "source": []
  }
 ],
 "metadata": {
  "kernelspec": {
   "display_name": "Python 3",
   "language": "python",
   "name": "python3"
  },
  "language_info": {
   "codemirror_mode": {
    "name": "ipython",
    "version": 3
   },
   "file_extension": ".py",
   "mimetype": "text/x-python",
   "name": "python",
   "nbconvert_exporter": "python",
   "pygments_lexer": "ipython3",
   "version": "3.7.7"
  }
 },
 "nbformat": 4,
 "nbformat_minor": 4
}
