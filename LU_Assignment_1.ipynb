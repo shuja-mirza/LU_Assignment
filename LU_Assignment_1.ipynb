{
 "cells": [
  {
   "cell_type": "markdown",
   "metadata": {},
   "source": [
    "# Q1.\n"
   ]
  },
  {
   "cell_type": "code",
   "execution_count": 1,
   "metadata": {},
   "outputs": [],
   "source": [
    "#answer: B. RAINBOW"
   ]
  },
  {
   "cell_type": "markdown",
   "metadata": {},
   "source": [
    "# Q2.\n"
   ]
  },
  {
   "cell_type": "code",
   "execution_count": 2,
   "metadata": {},
   "outputs": [
    {
     "name": "stdout",
     "output_type": "stream",
     "text": [
      "original string:\n",
      "lets upgrade\n",
      "converted string is:\n",
      "LETS UPGRADE\n"
     ]
    }
   ],
   "source": [
    "text=\"lets upgrade\"\n",
    "print(\"original string:\")\n",
    "print(text)\n",
    "print(\"converted string is:\")\n",
    "print(text.upper())"
   ]
  },
  {
   "cell_type": "markdown",
   "metadata": {},
   "source": [
    "# Q3."
   ]
  },
  {
   "cell_type": "code",
   "execution_count": 7,
   "metadata": {},
   "outputs": [
    {
     "name": "stdout",
     "output_type": "stream",
     "text": [
      "Enter the cost price\t300\n",
      "Enter the selling price\t200\n",
      "PROFIT\n"
     ]
    }
   ],
   "source": [
    "x=input(\"Enter the cost price\\t\")\n",
    "y=input(\"Enter the selling price\\t\")\n",
    "if x>y:\n",
    "    print(\"PROFIT\")\n",
    "elif x<y:\n",
    "    print(\"LOSS\")\n",
    "else:\n",
    "    print(\"NEITHER\")\n",
    "    "
   ]
  },
  {
   "cell_type": "markdown",
   "metadata": {},
   "source": [
    "# Q4."
   ]
  },
  {
   "cell_type": "code",
   "execution_count": 12,
   "metadata": {},
   "outputs": [
    {
     "name": "stdout",
     "output_type": "stream",
     "text": [
      "Enter Amount\t230\n",
      "Euro Equivalant is 18400\n"
     ]
    }
   ],
   "source": [
    "# 1 Euro = 80 rs\n",
    "x= int(input(\"Enter Amount\\t\"))\n",
    "e=x*80\n",
    "print(\"Euro Equivalant is\",e)"
   ]
  },
  {
   "cell_type": "markdown",
   "metadata": {},
   "source": [
    "# Great Learning Experience"
   ]
  }
 ],
 "metadata": {
  "kernelspec": {
   "display_name": "Python 3",
   "language": "python",
   "name": "python3"
  },
  "language_info": {
   "codemirror_mode": {
    "name": "ipython",
    "version": 3
   },
   "file_extension": ".py",
   "mimetype": "text/x-python",
   "name": "python",
   "nbconvert_exporter": "python",
   "pygments_lexer": "ipython3",
   "version": "3.7.7"
  }
 },
 "nbformat": 4,
 "nbformat_minor": 4
}
